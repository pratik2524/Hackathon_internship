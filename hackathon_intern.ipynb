{
 "cells": [
  {
   "cell_type": "code",
   "execution_count": 141,
   "metadata": {},
   "outputs": [],
   "source": [
    "import pandas as pd\n",
    "import numpy as np"
   ]
  },
  {
   "cell_type": "code",
   "execution_count": 142,
   "metadata": {},
   "outputs": [],
   "source": [
    "col = ['X','Y']"
   ]
  },
  {
   "cell_type": "code",
   "execution_count": 143,
   "metadata": {},
   "outputs": [],
   "source": [
    "df = pd.read_csv('D:\\data_2_var.csv',names = col)"
   ]
  },
  {
   "cell_type": "code",
   "execution_count": 144,
   "metadata": {},
   "outputs": [
    {
     "data": {
      "text/html": [
       "<div>\n",
       "<style scoped>\n",
       "    .dataframe tbody tr th:only-of-type {\n",
       "        vertical-align: middle;\n",
       "    }\n",
       "\n",
       "    .dataframe tbody tr th {\n",
       "        vertical-align: top;\n",
       "    }\n",
       "\n",
       "    .dataframe thead th {\n",
       "        text-align: right;\n",
       "    }\n",
       "</style>\n",
       "<table border=\"1\" class=\"dataframe\">\n",
       "  <thead>\n",
       "    <tr style=\"text-align: right;\">\n",
       "      <th></th>\n",
       "      <th>X</th>\n",
       "      <th>Y</th>\n",
       "    </tr>\n",
       "  </thead>\n",
       "  <tbody>\n",
       "    <tr>\n",
       "      <th>0</th>\n",
       "      <td>-122.740667</td>\n",
       "      <td>-130.572085</td>\n",
       "    </tr>\n",
       "    <tr>\n",
       "      <th>1</th>\n",
       "      <td>-121.531419</td>\n",
       "      <td>-129.938929</td>\n",
       "    </tr>\n",
       "    <tr>\n",
       "      <th>2</th>\n",
       "      <td>-134.917019</td>\n",
       "      <td>-130.141832</td>\n",
       "    </tr>\n",
       "    <tr>\n",
       "      <th>3</th>\n",
       "      <td>-120.605951</td>\n",
       "      <td>-125.760932</td>\n",
       "    </tr>\n",
       "    <tr>\n",
       "      <th>4</th>\n",
       "      <td>-129.894781</td>\n",
       "      <td>-112.785214</td>\n",
       "    </tr>\n",
       "  </tbody>\n",
       "</table>\n",
       "</div>"
      ],
      "text/plain": [
       "            X           Y\n",
       "0 -122.740667 -130.572085\n",
       "1 -121.531419 -129.938929\n",
       "2 -134.917019 -130.141832\n",
       "3 -120.605951 -125.760932\n",
       "4 -129.894781 -112.785214"
      ]
     },
     "execution_count": 144,
     "metadata": {},
     "output_type": "execute_result"
    }
   ],
   "source": [
    "df.head()"
   ]
  },
  {
   "cell_type": "code",
   "execution_count": 145,
   "metadata": {},
   "outputs": [
    {
     "data": {
      "text/html": [
       "<div>\n",
       "<style scoped>\n",
       "    .dataframe tbody tr th:only-of-type {\n",
       "        vertical-align: middle;\n",
       "    }\n",
       "\n",
       "    .dataframe tbody tr th {\n",
       "        vertical-align: top;\n",
       "    }\n",
       "\n",
       "    .dataframe thead th {\n",
       "        text-align: right;\n",
       "    }\n",
       "</style>\n",
       "<table border=\"1\" class=\"dataframe\">\n",
       "  <thead>\n",
       "    <tr style=\"text-align: right;\">\n",
       "      <th></th>\n",
       "      <th>X</th>\n",
       "      <th>Y</th>\n",
       "    </tr>\n",
       "  </thead>\n",
       "  <tbody>\n",
       "    <tr>\n",
       "      <th>0</th>\n",
       "      <td>-122.740667</td>\n",
       "      <td>-130.572085</td>\n",
       "    </tr>\n",
       "    <tr>\n",
       "      <th>1</th>\n",
       "      <td>-121.531419</td>\n",
       "      <td>-129.938929</td>\n",
       "    </tr>\n",
       "    <tr>\n",
       "      <th>2</th>\n",
       "      <td>-134.917019</td>\n",
       "      <td>-130.141832</td>\n",
       "    </tr>\n",
       "    <tr>\n",
       "      <th>3</th>\n",
       "      <td>-120.605951</td>\n",
       "      <td>-125.760932</td>\n",
       "    </tr>\n",
       "    <tr>\n",
       "      <th>4</th>\n",
       "      <td>-129.894781</td>\n",
       "      <td>-112.785214</td>\n",
       "    </tr>\n",
       "    <tr>\n",
       "      <th>...</th>\n",
       "      <td>...</td>\n",
       "      <td>...</td>\n",
       "    </tr>\n",
       "    <tr>\n",
       "      <th>1106</th>\n",
       "      <td>-115.366669</td>\n",
       "      <td>121.000000</td>\n",
       "    </tr>\n",
       "    <tr>\n",
       "      <th>1107</th>\n",
       "      <td>-119.954237</td>\n",
       "      <td>123.609122</td>\n",
       "    </tr>\n",
       "    <tr>\n",
       "      <th>1108</th>\n",
       "      <td>-109.942155</td>\n",
       "      <td>127.197394</td>\n",
       "    </tr>\n",
       "    <tr>\n",
       "      <th>1109</th>\n",
       "      <td>-111.515368</td>\n",
       "      <td>128.170885</td>\n",
       "    </tr>\n",
       "    <tr>\n",
       "      <th>1110</th>\n",
       "      <td>-110.344221</td>\n",
       "      <td>123.087950</td>\n",
       "    </tr>\n",
       "  </tbody>\n",
       "</table>\n",
       "<p>1111 rows × 2 columns</p>\n",
       "</div>"
      ],
      "text/plain": [
       "               X           Y\n",
       "0    -122.740667 -130.572085\n",
       "1    -121.531419 -129.938929\n",
       "2    -134.917019 -130.141832\n",
       "3    -120.605951 -125.760932\n",
       "4    -129.894781 -112.785214\n",
       "...          ...         ...\n",
       "1106 -115.366669  121.000000\n",
       "1107 -119.954237  123.609122\n",
       "1108 -109.942155  127.197394\n",
       "1109 -111.515368  128.170885\n",
       "1110 -110.344221  123.087950\n",
       "\n",
       "[1111 rows x 2 columns]"
      ]
     },
     "execution_count": 145,
     "metadata": {},
     "output_type": "execute_result"
    }
   ],
   "source": [
    "df"
   ]
  },
  {
   "cell_type": "code",
   "execution_count": 146,
   "metadata": {},
   "outputs": [
    {
     "name": "stdout",
     "output_type": "stream",
     "text": [
      "<class 'pandas.core.frame.DataFrame'>\n",
      "RangeIndex: 1111 entries, 0 to 1110\n",
      "Data columns (total 2 columns):\n",
      " #   Column  Non-Null Count  Dtype  \n",
      "---  ------  --------------  -----  \n",
      " 0   X       1111 non-null   float64\n",
      " 1   Y       1111 non-null   float64\n",
      "dtypes: float64(2)\n",
      "memory usage: 17.5 KB\n"
     ]
    }
   ],
   "source": [
    "df.info()"
   ]
  },
  {
   "cell_type": "code",
   "execution_count": 147,
   "metadata": {},
   "outputs": [
    {
     "data": {
      "text/html": [
       "<div>\n",
       "<style scoped>\n",
       "    .dataframe tbody tr th:only-of-type {\n",
       "        vertical-align: middle;\n",
       "    }\n",
       "\n",
       "    .dataframe tbody tr th {\n",
       "        vertical-align: top;\n",
       "    }\n",
       "\n",
       "    .dataframe thead th {\n",
       "        text-align: right;\n",
       "    }\n",
       "</style>\n",
       "<table border=\"1\" class=\"dataframe\">\n",
       "  <thead>\n",
       "    <tr style=\"text-align: right;\">\n",
       "      <th></th>\n",
       "      <th>X</th>\n",
       "      <th>Y</th>\n",
       "    </tr>\n",
       "  </thead>\n",
       "  <tbody>\n",
       "    <tr>\n",
       "      <th>count</th>\n",
       "      <td>1111.000000</td>\n",
       "      <td>1111.000000</td>\n",
       "    </tr>\n",
       "    <tr>\n",
       "      <th>mean</th>\n",
       "      <td>6.783026</td>\n",
       "      <td>-26.187358</td>\n",
       "    </tr>\n",
       "    <tr>\n",
       "      <th>std</th>\n",
       "      <td>79.383668</td>\n",
       "      <td>69.794973</td>\n",
       "    </tr>\n",
       "    <tr>\n",
       "      <th>min</th>\n",
       "      <td>-134.962839</td>\n",
       "      <td>-132.422167</td>\n",
       "    </tr>\n",
       "    <tr>\n",
       "      <th>25%</th>\n",
       "      <td>-53.521987</td>\n",
       "      <td>-77.000000</td>\n",
       "    </tr>\n",
       "    <tr>\n",
       "      <th>50%</th>\n",
       "      <td>15.737782</td>\n",
       "      <td>-46.072638</td>\n",
       "    </tr>\n",
       "    <tr>\n",
       "      <th>75%</th>\n",
       "      <td>76.134647</td>\n",
       "      <td>7.435231</td>\n",
       "    </tr>\n",
       "    <tr>\n",
       "      <th>max</th>\n",
       "      <td>134.605775</td>\n",
       "      <td>134.425495</td>\n",
       "    </tr>\n",
       "  </tbody>\n",
       "</table>\n",
       "</div>"
      ],
      "text/plain": [
       "                 X            Y\n",
       "count  1111.000000  1111.000000\n",
       "mean      6.783026   -26.187358\n",
       "std      79.383668    69.794973\n",
       "min    -134.962839  -132.422167\n",
       "25%     -53.521987   -77.000000\n",
       "50%      15.737782   -46.072638\n",
       "75%      76.134647     7.435231\n",
       "max     134.605775   134.425495"
      ]
     },
     "execution_count": 147,
     "metadata": {},
     "output_type": "execute_result"
    }
   ],
   "source": [
    "df.describe()"
   ]
  },
  {
   "cell_type": "code",
   "execution_count": 148,
   "metadata": {},
   "outputs": [],
   "source": [
    "import matplotlib.pyplot as plt\n",
    "import seaborn as sns"
   ]
  },
  {
   "cell_type": "code",
   "execution_count": 149,
   "metadata": {},
   "outputs": [
    {
     "data": {
      "image/png": "[encoded data removed]",
      "text/plain": [
       "<Figure size 432x288 with 1 Axes>"
      ]
     },
     "metadata": {
      "needs_background": "light"
     },
     "output_type": "display_data"
    }
   ],
   "source": [
    "plt.boxplot(df)\n",
    "plt.show()"
   ]
  },
  {
   "cell_type": "code",
   "execution_count": 150,
   "metadata": {},
   "outputs": [
    {
     "name": "stderr",
     "output_type": "stream",
     "text": [
      "C:\\Users\\prati\\anaconda3\\lib\\site-packages\\seaborn\\_decorators.py:36: FutureWarning: Pass the following variable as a keyword arg: x. From version 0.12, the only valid positional argument will be `data`, and passing other arguments without an explicit keyword will result in an error or misinterpretation.\n",
      "  warnings.warn(\n"
     ]
    },
    {
     "data": {
      "text/plain": [
       "<AxesSubplot:xlabel='X'>"
      ]
     },
     "execution_count": 150,
     "metadata": {},
     "output_type": "execute_result"
    },
    {
     "data": {
      "image/png": "[encoded data removed]",
      "text/plain": [
       "<Figure size 432x288 with 1 Axes>"
      ]
     },
     "metadata": {
      "needs_background": "light"
     },
     "output_type": "display_data"
    }
   ],
   "source": [
    "sns.boxplot(df['X'])"
   ]
  },
  {
   "cell_type": "code",
   "execution_count": 151,
   "metadata": {},
   "outputs": [
    {
     "name": "stderr",
     "output_type": "stream",
     "text": [
      "C:\\Users\\prati\\anaconda3\\lib\\site-packages\\seaborn\\_decorators.py:36: FutureWarning: Pass the following variable as a keyword arg: x. From version 0.12, the only valid positional argument will be `data`, and passing other arguments without an explicit keyword will result in an error or misinterpretation.\n",
      "  warnings.warn(\n"
     ]
    },
    {
     "data": {
      "text/plain": [
       "<AxesSubplot:xlabel='Y'>"
      ]
     },
     "execution_count": 151,
     "metadata": {},
     "output_type": "execute_result"
    },
    {
     "data": {
      "image/png": "[encoded data removed]",
      "text/plain": [
       "<Figure size 432x288 with 1 Axes>"
      ]
     },
     "metadata": {
      "needs_background": "light"
     },
     "output_type": "display_data"
    }
   ],
   "source": [
    "sns.boxplot(df['Y'])"
   ]
  },
  {
   "cell_type": "code",
   "execution_count": 152,
   "metadata": {},
   "outputs": [
    {
     "name": "stderr",
     "output_type": "stream",
     "text": [
      "C:\\Users\\prati\\anaconda3\\lib\\site-packages\\seaborn\\_decorators.py:36: FutureWarning: Pass the following variables as keyword args: x, y. From version 0.12, the only valid positional argument will be `data`, and passing other arguments without an explicit keyword will result in an error or misinterpretation.\n",
      "  warnings.warn(\n"
     ]
    },
    {
     "data": {
      "text/plain": [
       "<AxesSubplot:xlabel='X', ylabel='Y'>"
      ]
     },
     "execution_count": 152,
     "metadata": {},
     "output_type": "execute_result"
    },
    {
     "data": {
      "image/png": "[encoded data removed]",
      "text/plain": [
       "<Figure size 432x288 with 1 Axes>"
      ]
     },
     "metadata": {
      "needs_background": "light"
     },
     "output_type": "display_data"
    }
   ],
   "source": [
    "sns.scatterplot(df['X'],df['Y'])"
   ]
  },
  {
   "cell_type": "code",
   "execution_count": 153,
   "metadata": {},
   "outputs": [
    {
     "name": "stdout",
     "output_type": "stream",
     "text": [
      "Outliers from IQR method:  []\n"
     ]
    }
   ],
   "source": [
    "outliers = []\n",
    "def detect_outliers_iqr(data):\n",
    "    data = sorted(data)\n",
    "    q1 = np.percentile(data, 25)\n",
    "    q3 = np.percentile(data, 75)\n",
    "    # print(q1, q3)\n",
    "    IQR = q3-q1\n",
    "    lwr_bound = q1-(1.5*IQR)\n",
    "    upr_bound = q3+(1.5*IQR)\n",
    "    # print(lwr_bound, upr_bound)\n",
    "    for i in data: \n",
    "        if (i<lwr_bound or i>upr_bound):\n",
    "            outliers.append(i)\n",
    "    return outliers# Driver code\n",
    "sample_outliers = detect_outliers_iqr(df['X'])\n",
    "print(\"Outliers from IQR method: \", sample_outliers)\n"
   ]
  },
  {
   "cell_type": "code",
   "execution_count": 154,
   "metadata": {},
   "outputs": [
    {
     "name": "stdout",
     "output_type": "stream",
     "text": [
      "Outliers from IQR method:  [134.42549519999997]\n"
     ]
    }
   ],
   "source": [
    "outliers = []\n",
    "def detect_outliers_iqr(data):\n",
    "    data = sorted(data)\n",
    "    q1 = np.percentile(data, 25)\n",
    "    q3 = np.percentile(data, 75)\n",
    "    # print(q1, q3)\n",
    "    IQR = q3-q1\n",
    "    lwr_bound = q1-(1.5*IQR)\n",
    "    upr_bound = q3+(1.5*IQR)\n",
    "    # print(lwr_bound, upr_bound)\n",
    "    for i in data: \n",
    "        if (i<lwr_bound or i>upr_bound):\n",
    "            outliers.append(i)\n",
    "    return outliers# Driver code\n",
    "sample_outliers = detect_outliers_iqr(df['Y'])\n",
    "print(\"Outliers from IQR method: \", sample_outliers)"
   ]
  },
  {
   "cell_type": "code",
   "execution_count": 155,
   "metadata": {},
   "outputs": [
    {
     "data": {
      "text/plain": [
       "[-130.57208459999998,\n",
       " -129.9389289,\n",
       " -130.1418321,\n",
       " -125.7609321,\n",
       " -112.78521370000001,\n",
       " -116.0,\n",
       " -126.26762140000001,\n",
       " -132.0322057,\n",
       " -114.0,\n",
       " -94.41985546,\n",
       " -107.49932369999999,\n",
       " -113.0,\n",
       " -117.674002,\n",
       " -111.0,\n",
       " -99.43907611,\n",
       " -127.0636111,\n",
       " -128.8850301,\n",
       " -101.0,\n",
       " -96.21628083,\n",
       " -85.09071142,\n",
       " -93.0,\n",
       " -78.13927519,\n",
       " -86.81404312,\n",
       " -89.0,\n",
       " -92.18557515,\n",
       " -99.40238374,\n",
       " -76.60555952,\n",
       " -86.0,\n",
       " -85.95867942,\n",
       " -73.35306605,\n",
       " -91.74695772,\n",
       " -81.0,\n",
       " -94.93958463,\n",
       " -83.93283857,\n",
       " -80.04480123,\n",
       " -80.0,\n",
       " -95.37931257,\n",
       " -66.36818522,\n",
       " -75.0,\n",
       " -57.15089931,\n",
       " -81.82343674,\n",
       " -59.90875129999999,\n",
       " -70.0,\n",
       " -78.08783768,\n",
       " -59.30063103,\n",
       " -54.09911852,\n",
       " -67.0,\n",
       " -83.8759736,\n",
       " -73.79401197,\n",
       " -83.82733147,\n",
       " -61.0,\n",
       " -57.82218601,\n",
       " -76.9771902,\n",
       " -41.10723103,\n",
       " -56.0,\n",
       " -53.582196200000006,\n",
       " -50.94802619,\n",
       " -62.99177131,\n",
       " -55.0,\n",
       " -55.14545056,\n",
       " -69.46269683,\n",
       " -47.06037708,\n",
       " -55.0,\n",
       " -65.23538144,\n",
       " -72.97830748,\n",
       " -55.71583998,\n",
       " -52.0,\n",
       " -51.17616754,\n",
       " -62.52893536,\n",
       " -39.63824551,\n",
       " -49.0,\n",
       " -42.88038632,\n",
       " -56.09749979,\n",
       " -41.58095753,\n",
       " -47.0,\n",
       " -63.3590412,\n",
       " -28.31035086,\n",
       " -42.17763751,\n",
       " -44.0,\n",
       " -40.53765293,\n",
       " -43.17696351,\n",
       " -27.36712757,\n",
       " -41.0,\n",
       " -29.531183000000002,\n",
       " -41.50456363,\n",
       " -30.84830515,\n",
       " -38.0,\n",
       " -54.99794856,\n",
       " -45.74174419,\n",
       " -44.03772921,\n",
       " -35.0,\n",
       " -44.89875934,\n",
       " -42.54812756,\n",
       " -44.78191214,\n",
       " -34.0,\n",
       " -40.44527072,\n",
       " -19.81154525,\n",
       " -51.36506174,\n",
       " -33.0,\n",
       " -33.24978183,\n",
       " -42.24290053,\n",
       " -28.62021799,\n",
       " -33.0,\n",
       " -39.59092256,\n",
       " -20.97513743,\n",
       " -29.37022433,\n",
       " -33.0,\n",
       " -23.92997877,\n",
       " -43.66378035,\n",
       " -17.98193677,\n",
       " -33.0,\n",
       " -15.23859065,\n",
       " -18.31251762,\n",
       " -33.92168429,\n",
       " -34.0,\n",
       " -51.66513308,\n",
       " -22.52009114,\n",
       " -43.54768479,\n",
       " -36.0,\n",
       " -16.71579079,\n",
       " -46.514692100000005,\n",
       " -45.24033613,\n",
       " -37.0,\n",
       " -28.82250803,\n",
       " -30.02512536,\n",
       " -49.96637079,\n",
       " -39.0,\n",
       " -41.31288872,\n",
       " -50.56511127,\n",
       " -52.25481351,\n",
       " -39.0,\n",
       " -52.67569749,\n",
       " -25.42900714,\n",
       " -27.17722722,\n",
       " -41.0,\n",
       " -57.31872135,\n",
       " -35.67759484,\n",
       " -40.14590743,\n",
       " -42.0,\n",
       " -41.71113559,\n",
       " -39.09282369,\n",
       " -33.18686303,\n",
       " -44.0,\n",
       " -48.29808186,\n",
       " -30.23595041,\n",
       " -33.3320673,\n",
       " -45.0,\n",
       " -63.79559443,\n",
       " -46.17071559,\n",
       " -58.00260598,\n",
       " -47.0,\n",
       " -41.38995329,\n",
       " -53.71494925,\n",
       " -56.61692526,\n",
       " -49.0,\n",
       " -47.37086746,\n",
       " -49.28631576,\n",
       " -67.56915408,\n",
       " -51.0,\n",
       " -43.43105121,\n",
       " -34.973980700000006,\n",
       " -62.95674265,\n",
       " -52.0,\n",
       " -67.98276954,\n",
       " -39.28621743,\n",
       " -40.55206810000001,\n",
       " -56.0,\n",
       " -65.01735559,\n",
       " -59.82378418,\n",
       " -74.283475,\n",
       " -60.0,\n",
       " -67.36906194,\n",
       " -75.24399431,\n",
       " -61.16787001,\n",
       " -63.0,\n",
       " -68.40823423,\n",
       " -58.74118736,\n",
       " -66.69622105,\n",
       " -66.0,\n",
       " -61.16785103,\n",
       " -48.38487745,\n",
       " -67.53609568,\n",
       " -68.0,\n",
       " -52.84362136,\n",
       " -68.72581737,\n",
       " -51.0307231,\n",
       " -69.0,\n",
       " -78.68980878,\n",
       " -65.22934947,\n",
       " -49.89870701,\n",
       " -72.0,\n",
       " -69.10412547,\n",
       " -90.85630969,\n",
       " -82.99950683,\n",
       " -73.0,\n",
       " -66.67717533,\n",
       " -76.47846772,\n",
       " -53.04804705,\n",
       " -75.0,\n",
       " -60.82534409,\n",
       " -64.97087781,\n",
       " -59.11962969,\n",
       " -75.0,\n",
       " -65.47228739,\n",
       " -67.30625597,\n",
       " -76.62353946,\n",
       " -76.0,\n",
       " -63.41746806,\n",
       " -70.20243924,\n",
       " -87.04968828,\n",
       " -76.0,\n",
       " -86.77618185,\n",
       " -93.21104281,\n",
       " -62.59521384,\n",
       " -77.0,\n",
       " -82.87370205,\n",
       " -70.40769996,\n",
       " -93.45598818,\n",
       " -78.0,\n",
       " -78.97237496,\n",
       " -82.8596582,\n",
       " -87.66219337,\n",
       " -78.0,\n",
       " -74.16838897,\n",
       " -61.00472007,\n",
       " -74.48713388,\n",
       " -78.0,\n",
       " -62.30602914,\n",
       " -58.3815826,\n",
       " -85.16360087,\n",
       " -78.0,\n",
       " -68.18132714,\n",
       " -67.72892745,\n",
       " -60.14806655,\n",
       " -78.0,\n",
       " -90.24289704,\n",
       " -78.27402128,\n",
       " -73.48791167,\n",
       " -78.0,\n",
       " -87.01528927,\n",
       " -72.83375841,\n",
       " -83.9769767,\n",
       " -76.0,\n",
       " -86.08341372,\n",
       " -92.58017803,\n",
       " -56.54466803,\n",
       " -72.0,\n",
       " -78.74335888,\n",
       " -58.19827983,\n",
       " -76.02231946,\n",
       " -69.0,\n",
       " -73.19863132,\n",
       " -61.17085155,\n",
       " -88.89638841,\n",
       " -66.0,\n",
       " -47.43960797,\n",
       " -72.98043377,\n",
       " -85.90001399,\n",
       " -61.0,\n",
       " -45.48630807,\n",
       " -72.59163695,\n",
       " -57.31096879,\n",
       " -57.0,\n",
       " -45.82164171,\n",
       " -43.83048837,\n",
       " -37.53220503,\n",
       " -55.0,\n",
       " -63.86663357,\n",
       " -44.39220689,\n",
       " -74.22261609,\n",
       " -51.0,\n",
       " -43.12700344,\n",
       " -69.29720664,\n",
       " -48.69429586,\n",
       " -48.0,\n",
       " -39.63667139,\n",
       " -34.40501243,\n",
       " -44.17783796,\n",
       " -44.0,\n",
       " -34.462039399999995,\n",
       " -44.60494241,\n",
       " -62.90479574,\n",
       " -36.0,\n",
       " -25.28470337,\n",
       " -25.0746607,\n",
       " -36.7442528,\n",
       " -27.0,\n",
       " -25.87678293,\n",
       " -28.51022284,\n",
       " -22.93029483,\n",
       " -19.0,\n",
       " -28.30600144,\n",
       " -29.41554152,\n",
       " -11.25681014,\n",
       " -15.0,\n",
       " -9.99646719,\n",
       " -5.494824925,\n",
       " -22.30029946,\n",
       " -11.0,\n",
       " -29.91440954,\n",
       " 1.4679808509999999,\n",
       " -10.28008749,\n",
       " -3.0,\n",
       " -18.11702917,\n",
       " -3.2302455969999997,\n",
       " -20.14323093,\n",
       " 7.0,\n",
       " 8.755984968,\n",
       " -0.116834019,\n",
       " 11.947285,\n",
       " 18.0,\n",
       " 35.54328359,\n",
       " 22.91589129,\n",
       " 34.4399733,\n",
       " 25.0,\n",
       " 20.76041535,\n",
       " 18.03833636,\n",
       " 27.90016191,\n",
       " 41.0,\n",
       " 23.41974153,\n",
       " 55.67716834,\n",
       " 45.23878665,\n",
       " 51.0,\n",
       " 49.12797699,\n",
       " 65.84630362,\n",
       " 58.01520137,\n",
       " 55.0,\n",
       " 43.61714619,\n",
       " 51.38717146,\n",
       " 41.51795546,\n",
       " 61.0,\n",
       " 46.38835856,\n",
       " 60.10208324,\n",
       " 56.90605722,\n",
       " 83.0,\n",
       " 91.33827573,\n",
       " 80.33651809999999,\n",
       " 82.36724538,\n",
       " 89.0,\n",
       " 100.4931074,\n",
       " 84.46608551,\n",
       " 103.8184132,\n",
       " 94.0,\n",
       " 109.96526159999999,\n",
       " 87.65325077,\n",
       " 94.63628875,\n",
       " 101.0,\n",
       " 102.4015316,\n",
       " 90.8847302,\n",
       " 86.00624836,\n",
       " 107.0,\n",
       " 116.3274991,\n",
       " 107.2929794,\n",
       " 92.92781851,\n",
       " 119.0,\n",
       " 128.4164159,\n",
       " 121.0,\n",
       " 125.120374,\n",
       " 102.82458829999999,\n",
       " 133.7931158,\n",
       " 129.0,\n",
       " 126.75038490000001,\n",
       " 132.05527,\n",
       " 126.53730829999999,\n",
       " -56.0,\n",
       " -41.93468253,\n",
       " -47.33074374,\n",
       " -52.68481864,\n",
       " -48.0,\n",
       " -31.386348699999996,\n",
       " -28.97956175,\n",
       " -58.86740713,\n",
       " -40.0,\n",
       " -40.03774583,\n",
       " -54.26272316,\n",
       " -34.81406491,\n",
       " -35.0,\n",
       " -23.66087616,\n",
       " -31.45742063,\n",
       " -37.65615936,\n",
       " -34.0,\n",
       " -30.91793406,\n",
       " -29.19500549,\n",
       " -19.53037002,\n",
       " -29.0,\n",
       " -17.38202143,\n",
       " -15.03105603,\n",
       " -20.32668023,\n",
       " -23.0,\n",
       " -27.95189099,\n",
       " -6.151724668,\n",
       " -5.25191765,\n",
       " -18.0,\n",
       " -0.8162336790000001,\n",
       " -10.87340028,\n",
       " -9.061201557999999,\n",
       " -7.0,\n",
       " -17.91083606,\n",
       " 5.150801609,\n",
       " 7.107771754,\n",
       " -1.0,\n",
       " 10.03590062,\n",
       " 12.87885513,\n",
       " -11.42555386,\n",
       " 5.0,\n",
       " 1.216251778,\n",
       " -13.61885699,\n",
       " -3.16842193,\n",
       " 13.0,\n",
       " -5.0881537869999995,\n",
       " -1.93870527,\n",
       " 1.493731221,\n",
       " 21.0,\n",
       " 29.15065648,\n",
       " 5.964163766,\n",
       " 21.9481929,\n",
       " 29.0,\n",
       " 41.63469698,\n",
       " 24.55455007,\n",
       " 40.29726254,\n",
       " 33.0,\n",
       " 22.40757901,\n",
       " 41.36624334,\n",
       " 16.826605800000003,\n",
       " 37.0,\n",
       " 22.86270988,\n",
       " 38.24941962,\n",
       " 23.82105647,\n",
       " 39.0,\n",
       " 48.02855258,\n",
       " 32.58065789,\n",
       " 52.55720382,\n",
       " 48.0,\n",
       " 61.38724061,\n",
       " 59.36325164,\n",
       " 60.11864347,\n",
       " 61.0,\n",
       " 80.26412693,\n",
       " 65.49619763,\n",
       " 59.42752283,\n",
       " 67.0,\n",
       " 74.11018474,\n",
       " 74.73065812,\n",
       " 73.94225713,\n",
       " 71.0,\n",
       " 63.25700098,\n",
       " 67.62955189,\n",
       " 77.05656398,\n",
       " 79.0,\n",
       " 69.38148907,\n",
       " 83.25342662,\n",
       " 60.83232939,\n",
       " 89.0,\n",
       " 100.95992609999999,\n",
       " 73.21211873,\n",
       " 87.08107647,\n",
       " 100.0,\n",
       " 100.0000474,\n",
       " 83.93005242,\n",
       " 87.92508699,\n",
       " 103.0,\n",
       " 102.0504222,\n",
       " 94.79950464,\n",
       " 91.54096348,\n",
       " 103.0,\n",
       " 98.58331448,\n",
       " 99.7648188,\n",
       " 119.5931407,\n",
       " 105.0,\n",
       " 85.23928640000001,\n",
       " 104.7542306,\n",
       " 95.91099282,\n",
       " 117.0,\n",
       " 131.8415952,\n",
       " 101.6377652,\n",
       " 128.5894125,\n",
       " 125.0,\n",
       " 131.91636210000001,\n",
       " 115.43804879999999,\n",
       " 127.0,\n",
       " 134.42549519999997,\n",
       " 115.3676033,\n",
       " 126.0,\n",
       " 127.5743908,\n",
       " 120.0,\n",
       " 103.5618586,\n",
       " 106.8797057,\n",
       " 115.0,\n",
       " 108.43553359999999,\n",
       " 126.8997443,\n",
       " 125.6857499,\n",
       " 102.0,\n",
       " 107.5450815,\n",
       " 98.04474815,\n",
       " 90.47212182,\n",
       " 92.0,\n",
       " 102.74951949999999,\n",
       " 86.75781924,\n",
       " 104.67926729999999,\n",
       " 80.0,\n",
       " 85.5246007,\n",
       " 72.24119383,\n",
       " 60.67355428,\n",
       " 71.0,\n",
       " 69.77947313,\n",
       " 67.10044414,\n",
       " 74.59532558,\n",
       " 63.0,\n",
       " 58.86109019,\n",
       " 49.87665865,\n",
       " 79.20662645,\n",
       " 51.0,\n",
       " 39.42930712,\n",
       " 68.43181474,\n",
       " 38.996423799999995,\n",
       " 45.0,\n",
       " 51.56531903,\n",
       " 26.96618417,\n",
       " 62.41608167,\n",
       " 42.0,\n",
       " 59.81681172,\n",
       " 58.30009797,\n",
       " 38.30762372,\n",
       " 30.0,\n",
       " 41.03634764,\n",
       " 18.28126979,\n",
       " 24.7859337,\n",
       " 21.0,\n",
       " 6.148040503,\n",
       " 4.07905264,\n",
       " 1.237683376,\n",
       " 14.0,\n",
       " 16.39178112,\n",
       " 11.16664314,\n",
       " 0.8427154840000001,\n",
       " 6.0,\n",
       " -8.600429693999999,\n",
       " -0.5107031470000001,\n",
       " 7.76268927,\n",
       " -5.0,\n",
       " -13.74117306,\n",
       " -4.065554372,\n",
       " -17.55777107,\n",
       " -14.0,\n",
       " -6.351438601,\n",
       " -29.114914199999998,\n",
       " -2.084411704,\n",
       " -21.0,\n",
       " -25.63479653,\n",
       " -12.20361653,\n",
       " -5.067901235,\n",
       " -25.0,\n",
       " -5.023306072,\n",
       " -11.56815047,\n",
       " -17.50048298,\n",
       " -33.0,\n",
       " -48.84171628,\n",
       " -31.76552378,\n",
       " -51.92579203,\n",
       " -39.0,\n",
       " -47.33043855,\n",
       " -42.589874200000004,\n",
       " -51.02695614,\n",
       " -41.0,\n",
       " -22.97242529,\n",
       " -50.06996019,\n",
       " -56.37083164,\n",
       " -47.0,\n",
       " -51.14223003,\n",
       " -48.79104591,\n",
       " -30.40017599,\n",
       " -51.0,\n",
       " -58.05953404,\n",
       " -39.15213559,\n",
       " -49.58565292,\n",
       " -55.0,\n",
       " -50.033708399999995,\n",
       " -67.82431694,\n",
       " -41.625460499999996,\n",
       " -59.0,\n",
       " -67.10707174,\n",
       " -40.75949023,\n",
       " -77.62374105,\n",
       " -61.0,\n",
       " -44.9074473,\n",
       " -65.36259114,\n",
       " -48.47331279,\n",
       " -66.0,\n",
       " -62.72941816,\n",
       " -82.40440822,\n",
       " -61.50021112,\n",
       " -71.0,\n",
       " -57.45310377,\n",
       " -61.13749271,\n",
       " -54.27470844,\n",
       " -75.0,\n",
       " -83.65416341,\n",
       " -72.94543785,\n",
       " -92.03892106,\n",
       " -80.0,\n",
       " -74.50435818,\n",
       " -86.91513321,\n",
       " -81.76757328,\n",
       " -83.0,\n",
       " -71.073095,\n",
       " -78.52006778,\n",
       " -102.82110920000001,\n",
       " -86.0,\n",
       " -78.94847099,\n",
       " -83.48584207,\n",
       " -98.4841155,\n",
       " -89.0,\n",
       " -86.11036171,\n",
       " -91.5814966,\n",
       " -92.0701652,\n",
       " -91.0,\n",
       " -82.24312547,\n",
       " -76.67718954,\n",
       " -81.76071102,\n",
       " -91.0,\n",
       " -79.13113654,\n",
       " -102.6265059,\n",
       " -92.30237169,\n",
       " -92.0,\n",
       " -93.35873189,\n",
       " -88.34459172,\n",
       " -94.00588663,\n",
       " -94.0,\n",
       " -107.39069609999999,\n",
       " -96.95129583,\n",
       " -98.5541688,\n",
       " -95.0,\n",
       " -98.64740582,\n",
       " -97.29753278,\n",
       " -79.05284092,\n",
       " -95.0,\n",
       " -109.79745690000001,\n",
       " -89.92263364,\n",
       " -80.7611699,\n",
       " -95.0,\n",
       " -108.9254203,\n",
       " -86.71419203,\n",
       " -104.85150329999999,\n",
       " -95.0,\n",
       " -114.8739104,\n",
       " -86.95520396,\n",
       " -96.01822054,\n",
       " -95.0,\n",
       " -79.15602534,\n",
       " -85.28004920000001,\n",
       " -102.4235968,\n",
       " -95.0,\n",
       " -104.595355,\n",
       " -94.94198768,\n",
       " -76.12857598,\n",
       " -90.0,\n",
       " -74.68968573,\n",
       " -99.37143457,\n",
       " -109.1865689,\n",
       " -89.0,\n",
       " -70.73224956,\n",
       " -85.02910025,\n",
       " -84.10975258,\n",
       " -88.0,\n",
       " -83.71138609,\n",
       " -77.77117932,\n",
       " -73.51940597,\n",
       " -87.0,\n",
       " -68.39223395,\n",
       " -68.74341962,\n",
       " -88.49031795,\n",
       " -83.0,\n",
       " -79.09037446,\n",
       " -67.38011171,\n",
       " -86.45226803,\n",
       " -75.0,\n",
       " -60.64073649,\n",
       " -71.964687,\n",
       " -57.95329699,\n",
       " -71.0,\n",
       " -84.61068079,\n",
       " -58.05142691,\n",
       " -70.59520529999999,\n",
       " -70.0,\n",
       " -86.90334765,\n",
       " -70.13738294,\n",
       " -87.15485176,\n",
       " -69.0,\n",
       " -72.45230268,\n",
       " -78.71710201,\n",
       " -68.25124784,\n",
       " -65.0,\n",
       " -60.13080283,\n",
       " -55.57029679,\n",
       " -59.55571163,\n",
       " -62.0,\n",
       " -74.55130567,\n",
       " -66.26324993,\n",
       " -79.40847684,\n",
       " -59.0,\n",
       " -55.01953723,\n",
       " -41.36618892,\n",
       " -73.41988189,\n",
       " -57.0,\n",
       " -39.15015955,\n",
       " -53.05481656,\n",
       " -76.82663329,\n",
       " -53.0,\n",
       " -40.45534263,\n",
       " -64.11540144,\n",
       " -55.94718956,\n",
       " -49.0,\n",
       " -46.96889125,\n",
       " -50.58788651,\n",
       " -42.12314723,\n",
       " -49.0,\n",
       " -40.01850654,\n",
       " -48.64469176,\n",
       " -39.74783596,\n",
       " -49.0,\n",
       " -46.07263753,\n",
       " -31.43368118,\n",
       " -48.39261806,\n",
       " -45.0,\n",
       " -55.37269216,\n",
       " -36.62275691,\n",
       " -38.984644200000005,\n",
       " -35.0,\n",
       " -23.37201761,\n",
       " -48.61858991,\n",
       " -42.58769621,\n",
       " -33.0,\n",
       " -39.574166,\n",
       " -18.62976557,\n",
       " -39.06074847,\n",
       " -32.0,\n",
       " -42.30241871,\n",
       " -36.36739914,\n",
       " -47.6389731,\n",
       " -32.0,\n",
       " -45.9518156,\n",
       " -44.98280833,\n",
       " -16.31893308,\n",
       " -32.0,\n",
       " -12.1322208,\n",
       " -23.34760138,\n",
       " -19.80593228,\n",
       " -32.0,\n",
       " -21.265183399999998,\n",
       " -37.27728491,\n",
       " -21.48768832,\n",
       " -32.0,\n",
       " -35.91711333,\n",
       " -41.25077981,\n",
       " -21.44556986,\n",
       " -32.0,\n",
       " -12.43114176,\n",
       " -41.00348809,\n",
       " -41.60278387,\n",
       " -32.0,\n",
       " -40.30944733,\n",
       " -24.05823324,\n",
       " -44.6311089,\n",
       " -32.0,\n",
       " -40.68913166,\n",
       " -38.24609882,\n",
       " -28.18979637,\n",
       " -32.0,\n",
       " -46.26979181,\n",
       " -29.50161897,\n",
       " -43.58766083,\n",
       " -32.0,\n",
       " -45.33323821,\n",
       " -14.555559400000002,\n",
       " -30.95901824,\n",
       " -33.0,\n",
       " -16.22572101,\n",
       " -44.60348444,\n",
       " -17.58402072,\n",
       " -37.0,\n",
       " -46.559003499999996,\n",
       " -46.33208511,\n",
       " -54.57363328,\n",
       " -40.0,\n",
       " -36.63841721,\n",
       " -57.01265872,\n",
       " -39.33291236,\n",
       " -43.0,\n",
       " -27.39577296,\n",
       " -40.70900325,\n",
       " -34.30393051,\n",
       " -46.0,\n",
       " -56.53663938,\n",
       " -47.06586548,\n",
       " -48.83725613,\n",
       " -48.0,\n",
       " -40.25382252,\n",
       " -42.40668762,\n",
       " -43.49923691,\n",
       " -51.0,\n",
       " -41.23381889,\n",
       " -70.99206607,\n",
       " -33.46900187,\n",
       " -54.0,\n",
       " -62.58695485,\n",
       " -36.97238581,\n",
       " -38.58972898,\n",
       " -58.0,\n",
       " -57.79806578,\n",
       " -70.36698747,\n",
       " -69.89604131,\n",
       " -63.0,\n",
       " -82.00397562,\n",
       " -67.94893329,\n",
       " -55.68598191,\n",
       " -67.0,\n",
       " -61.34780894,\n",
       " -67.20442906,\n",
       " -72.42753461,\n",
       " -75.0,\n",
       " -65.45754549,\n",
       " -66.83212569999999,\n",
       " -85.64976455,\n",
       " -82.0,\n",
       " -95.01818683,\n",
       " -76.65343531,\n",
       " -92.51726482,\n",
       " -85.0,\n",
       " -81.18258381,\n",
       " -92.94112847,\n",
       " -75.56133809,\n",
       " -88.0,\n",
       " -103.5617973,\n",
       " -81.54003728,\n",
       " -72.78638358,\n",
       " -90.0,\n",
       " -93.38786235,\n",
       " -97.62883019,\n",
       " -99.66680262,\n",
       " -95.0,\n",
       " -76.86291803,\n",
       " -96.46958507,\n",
       " -98.36786265,\n",
       " -100.0,\n",
       " -104.73150559999999,\n",
       " -102.42277740000002,\n",
       " -106.0,\n",
       " -120.613037,\n",
       " -101.9642026,\n",
       " -116.38702930000001,\n",
       " -111.0,\n",
       " -113.25467379999999,\n",
       " -129.7094883,\n",
       " -105.7111439,\n",
       " -117.0,\n",
       " -112.1053257,\n",
       " -127.2402123,\n",
       " -109.4301784,\n",
       " -120.0,\n",
       " -126.64631969999999,\n",
       " -132.422167,\n",
       " -123.0,\n",
       " -118.6922959,\n",
       " -125.0,\n",
       " -122.63000490000002,\n",
       " -125.0,\n",
       " -109.97416470000002,\n",
       " -125.9214973,\n",
       " -100.0,\n",
       " -108.14229569999999,\n",
       " -119.6713673,\n",
       " -103.2039555,\n",
       " -100.0,\n",
       " -118.7931916,\n",
       " -111.9352713,\n",
       " -114.4556708,\n",
       " -100.0,\n",
       " -110.77574320000001,\n",
       " -97.72882784,\n",
       " -111.07926940000002,\n",
       " -99.0,\n",
       " -116.5886395,\n",
       " -100.01119840000001,\n",
       " -86.65353384,\n",
       " -98.0,\n",
       " -92.13509303,\n",
       " -87.88028986,\n",
       " -112.4889077,\n",
       " -96.0,\n",
       " -95.29948462,\n",
       " -110.02488319999999,\n",
       " -110.02565609999999,\n",
       " -95.0,\n",
       " -87.6300223,\n",
       " -92.47895181,\n",
       " -88.52050974,\n",
       " -95.0,\n",
       " -114.4033845,\n",
       " -112.98891370000001,\n",
       " -97.37614153,\n",
       " -95.0,\n",
       " -90.46785240000001,\n",
       " -93.31922985,\n",
       " -102.5771501,\n",
       " -95.0,\n",
       " -95.87848863,\n",
       " -75.9911003,\n",
       " -82.94304225,\n",
       " -95.0,\n",
       " -95.78266705,\n",
       " -89.25204159,\n",
       " -82.69796248,\n",
       " -95.0,\n",
       " -106.952475,\n",
       " -75.11907372,\n",
       " -88.86853058,\n",
       " -95.0,\n",
       " -79.29374542,\n",
       " -109.1310987,\n",
       " -76.38448185,\n",
       " -95.0,\n",
       " -77.95105379,\n",
       " -107.85031359999999,\n",
       " -110.2991597,\n",
       " -95.0,\n",
       " -80.06462077,\n",
       " -104.4883031,\n",
       " -80.74906409,\n",
       " -95.0,\n",
       " -90.40141463,\n",
       " -78.95145025,\n",
       " -109.03101129999999,\n",
       " -95.0,\n",
       " -84.51644626,\n",
       " -111.59590039999999,\n",
       " -110.995411,\n",
       " -95.0,\n",
       " -81.87872943,\n",
       " -102.188449,\n",
       " -80.02676665,\n",
       " -93.0,\n",
       " -110.9070902,\n",
       " -79.68386802,\n",
       " -85.89214399,\n",
       " -93.0,\n",
       " -107.49786979999999,\n",
       " -74.86354732,\n",
       " -112.8431645,\n",
       " -93.0,\n",
       " -107.61141780000001,\n",
       " -111.7415295,\n",
       " -93.57196728,\n",
       " -91.0,\n",
       " -72.70879035,\n",
       " -76.38090212,\n",
       " -82.79693428,\n",
       " -87.0,\n",
       " -104.9430524,\n",
       " -101.7268941,\n",
       " -98.00065479,\n",
       " -83.0,\n",
       " -98.94339399,\n",
       " -75.29712652,\n",
       " -68.74725621,\n",
       " -80.0,\n",
       " -75.0829652,\n",
       " -98.47469254,\n",
       " -88.19607787,\n",
       " -77.0,\n",
       " -76.93193485,\n",
       " -89.16489504,\n",
       " -80.83279624,\n",
       " -68.0,\n",
       " -70.89999485,\n",
       " -61.038647399999995,\n",
       " -69.39344835,\n",
       " -64.0,\n",
       " -53.8093769,\n",
       " -57.60861351,\n",
       " -46.88955057,\n",
       " -61.0,\n",
       " -47.60439125,\n",
       " -42.77424187,\n",
       " -43.93094584,\n",
       " -54.0,\n",
       " -73.60074006,\n",
       " -69.81797981,\n",
       " -49.66184929999999,\n",
       " -48.0,\n",
       " -34.23120588,\n",
       " -47.33702704,\n",
       " -64.74799116,\n",
       " -41.0,\n",
       " -38.37480587,\n",
       " -37.96194713,\n",
       " -21.91068855,\n",
       " -33.0,\n",
       " -50.37684999,\n",
       " -36.07478432,\n",
       " -46.82643949,\n",
       " ...]"
      ]
     },
     "execution_count": 155,
     "metadata": {},
     "output_type": "execute_result"
    }
   ],
   "source": [
    "df['Y'].tolist()"
   ]
  },
  {
   "cell_type": "code",
   "execution_count": 156,
   "metadata": {},
   "outputs": [
    {
     "name": "stdout",
     "output_type": "stream",
     "text": [
      "(array([480], dtype=int64),)\n"
     ]
    }
   ],
   "source": [
    "for i in sample_outliers:\n",
    "    print(np.where(df['Y']==i))"
   ]
  },
  {
   "cell_type": "code",
   "execution_count": 157,
   "metadata": {},
   "outputs": [
    {
     "data": {
      "text/plain": [
       "X    108.413666\n",
       "Y    134.425495\n",
       "Name: 480, dtype: float64"
      ]
     },
     "execution_count": 157,
     "metadata": {},
     "output_type": "execute_result"
    }
   ],
   "source": [
    "df.iloc[480]"
   ]
  },
  {
   "cell_type": "code",
   "execution_count": 158,
   "metadata": {},
   "outputs": [],
   "source": [
    "df = df.drop(480)"
   ]
  },
  {
   "cell_type": "code",
   "execution_count": 159,
   "metadata": {},
   "outputs": [
    {
     "data": {
      "text/html": [
       "<div>\n",
       "<style scoped>\n",
       "    .dataframe tbody tr th:only-of-type {\n",
       "        vertical-align: middle;\n",
       "    }\n",
       "\n",
       "    .dataframe tbody tr th {\n",
       "        vertical-align: top;\n",
       "    }\n",
       "\n",
       "    .dataframe thead th {\n",
       "        text-align: right;\n",
       "    }\n",
       "</style>\n",
       "<table border=\"1\" class=\"dataframe\">\n",
       "  <thead>\n",
       "    <tr style=\"text-align: right;\">\n",
       "      <th></th>\n",
       "      <th>X</th>\n",
       "      <th>Y</th>\n",
       "    </tr>\n",
       "  </thead>\n",
       "  <tbody>\n",
       "    <tr>\n",
       "      <th>count</th>\n",
       "      <td>1110.000000</td>\n",
       "      <td>1110.000000</td>\n",
       "    </tr>\n",
       "    <tr>\n",
       "      <th>mean</th>\n",
       "      <td>6.691467</td>\n",
       "      <td>-26.332054</td>\n",
       "    </tr>\n",
       "    <tr>\n",
       "      <th>std</th>\n",
       "      <td>79.360740</td>\n",
       "      <td>69.659521</td>\n",
       "    </tr>\n",
       "    <tr>\n",
       "      <th>min</th>\n",
       "      <td>-134.962839</td>\n",
       "      <td>-132.422167</td>\n",
       "    </tr>\n",
       "    <tr>\n",
       "      <th>25%</th>\n",
       "      <td>-53.599647</td>\n",
       "      <td>-77.000000</td>\n",
       "    </tr>\n",
       "    <tr>\n",
       "      <th>50%</th>\n",
       "      <td>15.685557</td>\n",
       "      <td>-46.121677</td>\n",
       "    </tr>\n",
       "    <tr>\n",
       "      <th>75%</th>\n",
       "      <td>75.962672</td>\n",
       "      <td>7.080829</td>\n",
       "    </tr>\n",
       "    <tr>\n",
       "      <th>max</th>\n",
       "      <td>134.605775</td>\n",
       "      <td>133.793116</td>\n",
       "    </tr>\n",
       "  </tbody>\n",
       "</table>\n",
       "</div>"
      ],
      "text/plain": [
       "                 X            Y\n",
       "count  1110.000000  1110.000000\n",
       "mean      6.691467   -26.332054\n",
       "std      79.360740    69.659521\n",
       "min    -134.962839  -132.422167\n",
       "25%     -53.599647   -77.000000\n",
       "50%      15.685557   -46.121677\n",
       "75%      75.962672     7.080829\n",
       "max     134.605775   133.793116"
      ]
     },
     "execution_count": 159,
     "metadata": {},
     "output_type": "execute_result"
    }
   ],
   "source": [
    "df.describe()"
   ]
  },
  {
   "cell_type": "code",
   "execution_count": 160,
   "metadata": {},
   "outputs": [
    {
     "name": "stdout",
     "output_type": "stream",
     "text": [
      "[1071, 1072, 1073, 1074, 1075, 1076, 1077, 1078, 1079, 1080, 1081, 1082, 1083, 1084, 1085, 1086, 1087, 1088, 1089, 1090, 1091, 1092, 1093, 1094, 1095, 1096, 1097, 1098, 1099, 1100, 1101, 1102, 1103, 1104, 1105, 1106, 1107, 1108, 1109]\n"
     ]
    }
   ],
   "source": [
    "outliers1 = []\n",
    "for i in range(0,1110):\n",
    "    if df.iloc[i][1]>90 and df.iloc[i][0]<-50:\n",
    "        outliers1.append(i)\n",
    "\n",
    "print(outliers1)"
   ]
  },
  {
   "cell_type": "code",
   "execution_count": 161,
   "metadata": {},
   "outputs": [
    {
     "name": "stdout",
     "output_type": "stream",
     "text": [
      "               X           Y\n",
      "0    -122.740667 -130.572085\n",
      "1    -121.531419 -129.938929\n",
      "2    -134.917019 -130.141832\n",
      "3    -120.605951 -125.760932\n",
      "4    -129.894781 -112.785214\n",
      "...          ...         ...\n",
      "1067  134.605775  123.619680\n",
      "1068  116.633331  118.000000\n",
      "1069  115.862302  118.564590\n",
      "1070  117.366199   99.544820\n",
      "1110 -110.344221  123.087950\n",
      "\n",
      "[1071 rows x 2 columns]\n"
     ]
    }
   ],
   "source": [
    "for i in outliers1:\n",
    "    df= df.drop(i)\n",
    "print(df)"
   ]
  },
  {
   "cell_type": "code",
   "execution_count": 162,
   "metadata": {},
   "outputs": [
    {
     "data": {
      "text/html": [
       "<div>\n",
       "<style scoped>\n",
       "    .dataframe tbody tr th:only-of-type {\n",
       "        vertical-align: middle;\n",
       "    }\n",
       "\n",
       "    .dataframe tbody tr th {\n",
       "        vertical-align: top;\n",
       "    }\n",
       "\n",
       "    .dataframe thead th {\n",
       "        text-align: right;\n",
       "    }\n",
       "</style>\n",
       "<table border=\"1\" class=\"dataframe\">\n",
       "  <thead>\n",
       "    <tr style=\"text-align: right;\">\n",
       "      <th></th>\n",
       "      <th>X</th>\n",
       "      <th>Y</th>\n",
       "    </tr>\n",
       "  </thead>\n",
       "  <tbody>\n",
       "    <tr>\n",
       "      <th>count</th>\n",
       "      <td>1071.000000</td>\n",
       "      <td>1071.000000</td>\n",
       "    </tr>\n",
       "    <tr>\n",
       "      <th>mean</th>\n",
       "      <td>11.131814</td>\n",
       "      <td>-31.873374</td>\n",
       "    </tr>\n",
       "    <tr>\n",
       "      <th>std</th>\n",
       "      <td>76.943037</td>\n",
       "      <td>64.448297</td>\n",
       "    </tr>\n",
       "    <tr>\n",
       "      <th>min</th>\n",
       "      <td>-134.962839</td>\n",
       "      <td>-132.422167</td>\n",
       "    </tr>\n",
       "    <tr>\n",
       "      <th>25%</th>\n",
       "      <td>-47.369801</td>\n",
       "      <td>-78.043919</td>\n",
       "    </tr>\n",
       "    <tr>\n",
       "      <th>50%</th>\n",
       "      <td>18.746631</td>\n",
       "      <td>-47.638973</td>\n",
       "    </tr>\n",
       "    <tr>\n",
       "      <th>75%</th>\n",
       "      <td>76.645926</td>\n",
       "      <td>-5.170036</td>\n",
       "    </tr>\n",
       "    <tr>\n",
       "      <th>max</th>\n",
       "      <td>134.605775</td>\n",
       "      <td>133.793116</td>\n",
       "    </tr>\n",
       "  </tbody>\n",
       "</table>\n",
       "</div>"
      ],
      "text/plain": [
       "                 X            Y\n",
       "count  1071.000000  1071.000000\n",
       "mean     11.131814   -31.873374\n",
       "std      76.943037    64.448297\n",
       "min    -134.962839  -132.422167\n",
       "25%     -47.369801   -78.043919\n",
       "50%      18.746631   -47.638973\n",
       "75%      76.645926    -5.170036\n",
       "max     134.605775   133.793116"
      ]
     },
     "execution_count": 162,
     "metadata": {},
     "output_type": "execute_result"
    }
   ],
   "source": [
    "df.describe()"
   ]
  },
  {
   "cell_type": "code",
   "execution_count": 163,
   "metadata": {},
   "outputs": [
    {
     "name": "stderr",
     "output_type": "stream",
     "text": [
      "C:\\Users\\prati\\anaconda3\\lib\\site-packages\\seaborn\\_decorators.py:36: FutureWarning: Pass the following variables as keyword args: x, y. From version 0.12, the only valid positional argument will be `data`, and passing other arguments without an explicit keyword will result in an error or misinterpretation.\n",
      "  warnings.warn(\n"
     ]
    },
    {
     "data": {
      "text/plain": [
       "<AxesSubplot:xlabel='X', ylabel='Y'>"
      ]
     },
     "execution_count": 163,
     "metadata": {},
     "output_type": "execute_result"
    },
    {
     "data": {
      "image/png": "[encoded data removed]",
      "text/plain": [
       "<Figure size 432x288 with 1 Axes>"
      ]
     },
     "metadata": {
      "needs_background": "light"
     },
     "output_type": "display_data"
    }
   ],
   "source": [
    "sns.scatterplot(df['X'],df['Y'])"
   ]
  },
  {
   "cell_type": "code",
   "execution_count": 221,
   "metadata": {},
   "outputs": [],
   "source": [
    "from sklearn.preprocessing import StandardScaler\n",
    "from sklearn.preprocessing import MinMaxScaler\n",
    "from sklearn.model_selection import train_test_split\n",
    "sc = MinMaxScaler()"
   ]
  },
  {
   "cell_type": "code",
   "execution_count": 222,
   "metadata": {},
   "outputs": [],
   "source": [
    "X_train,X_test,y_train,y_test = train_test_split(df['X'],df['Y'],test_size = 0.2,random_state=2)"
   ]
  },
  {
   "cell_type": "code",
   "execution_count": 223,
   "metadata": {},
   "outputs": [],
   "source": [
    "X_train_sc = sc.fit_transform(X_train.values.reshape(1,-1))\n",
    "X_test_sc = sc.fit_transform(X_test.values.reshape(1,-1))"
   ]
  },
  {
   "cell_type": "code",
   "execution_count": 224,
   "metadata": {},
   "outputs": [
    {
     "data": {
      "text/plain": [
       "array([[0., 0., 0., 0., 0., 0., 0., 0., 0., 0., 0., 0., 0., 0., 0., 0.,\n",
       "        0., 0., 0., 0., 0., 0., 0., 0., 0., 0., 0., 0., 0., 0., 0., 0.,\n",
       "        0., 0., 0., 0., 0., 0., 0., 0., 0., 0., 0., 0., 0., 0., 0., 0.,\n",
       "        0., 0., 0., 0., 0., 0., 0., 0., 0., 0., 0., 0., 0., 0., 0., 0.,\n",
       "        0., 0., 0., 0., 0., 0., 0., 0., 0., 0., 0., 0., 0., 0., 0., 0.,\n",
       "        0., 0., 0., 0., 0., 0., 0., 0., 0., 0., 0., 0., 0., 0., 0., 0.,\n",
       "        0., 0., 0., 0., 0., 0., 0., 0., 0., 0., 0., 0., 0., 0., 0., 0.,\n",
       "        0., 0., 0., 0., 0., 0., 0., 0., 0., 0., 0., 0., 0., 0., 0., 0.,\n",
       "        0., 0., 0., 0., 0., 0., 0., 0., 0., 0., 0., 0., 0., 0., 0., 0.,\n",
       "        0., 0., 0., 0., 0., 0., 0., 0., 0., 0., 0., 0., 0., 0., 0., 0.,\n",
       "        0., 0., 0., 0., 0., 0., 0., 0., 0., 0., 0., 0., 0., 0., 0., 0.,\n",
       "        0., 0., 0., 0., 0., 0., 0., 0., 0., 0., 0., 0., 0., 0., 0., 0.,\n",
       "        0., 0., 0., 0., 0., 0., 0., 0., 0., 0., 0., 0., 0., 0., 0., 0.,\n",
       "        0., 0., 0., 0., 0., 0., 0.]])"
      ]
     },
     "execution_count": 224,
     "metadata": {},
     "output_type": "execute_result"
    }
   ],
   "source": [
    "X_test_sc"
   ]
  },
  {
   "cell_type": "code",
   "execution_count": 225,
   "metadata": {},
   "outputs": [
    {
     "data": {
      "text/plain": [
       "array([[0., 0., 0., 0., 0., 0., 0., 0., 0., 0., 0., 0., 0., 0., 0., 0.,\n",
       "        0., 0., 0., 0., 0., 0., 0., 0., 0., 0., 0., 0., 0., 0., 0., 0.,\n",
       "        0., 0., 0., 0., 0., 0., 0., 0., 0., 0., 0., 0., 0., 0., 0., 0.,\n",
       "        0., 0., 0., 0., 0., 0., 0., 0., 0., 0., 0., 0., 0., 0., 0., 0.,\n",
       "        0., 0., 0., 0., 0., 0., 0., 0., 0., 0., 0., 0., 0., 0., 0., 0.,\n",
       "        0., 0., 0., 0., 0., 0., 0., 0., 0., 0., 0., 0., 0., 0., 0., 0.,\n",
       "        0., 0., 0., 0., 0., 0., 0., 0., 0., 0., 0., 0., 0., 0., 0., 0.,\n",
       "        0., 0., 0., 0., 0., 0., 0., 0., 0., 0., 0., 0., 0., 0., 0., 0.,\n",
       "        0., 0., 0., 0., 0., 0., 0., 0., 0., 0., 0., 0., 0., 0., 0., 0.,\n",
       "        0., 0., 0., 0., 0., 0., 0., 0., 0., 0., 0., 0., 0., 0., 0., 0.,\n",
       "        0., 0., 0., 0., 0., 0., 0., 0., 0., 0., 0., 0., 0., 0., 0., 0.,\n",
       "        0., 0., 0., 0., 0., 0., 0., 0., 0., 0., 0., 0., 0., 0., 0., 0.,\n",
       "        0., 0., 0., 0., 0., 0., 0., 0., 0., 0., 0., 0., 0., 0., 0., 0.,\n",
       "        0., 0., 0., 0., 0., 0., 0., 0., 0., 0., 0., 0., 0., 0., 0., 0.,\n",
       "        0., 0., 0., 0., 0., 0., 0., 0., 0., 0., 0., 0., 0., 0., 0., 0.,\n",
       "        0., 0., 0., 0., 0., 0., 0., 0., 0., 0., 0., 0., 0., 0., 0., 0.,\n",
       "        0., 0., 0., 0., 0., 0., 0., 0., 0., 0., 0., 0., 0., 0., 0., 0.,\n",
       "        0., 0., 0., 0., 0., 0., 0., 0., 0., 0., 0., 0., 0., 0., 0., 0.,\n",
       "        0., 0., 0., 0., 0., 0., 0., 0., 0., 0., 0., 0., 0., 0., 0., 0.,\n",
       "        0., 0., 0., 0., 0., 0., 0., 0., 0., 0., 0., 0., 0., 0., 0., 0.,\n",
       "        0., 0., 0., 0., 0., 0., 0., 0., 0., 0., 0., 0., 0., 0., 0., 0.,\n",
       "        0., 0., 0., 0., 0., 0., 0., 0., 0., 0., 0., 0., 0., 0., 0., 0.,\n",
       "        0., 0., 0., 0., 0., 0., 0., 0., 0., 0., 0., 0., 0., 0., 0., 0.,\n",
       "        0., 0., 0., 0., 0., 0., 0., 0., 0., 0., 0., 0., 0., 0., 0., 0.,\n",
       "        0., 0., 0., 0., 0., 0., 0., 0., 0., 0., 0., 0., 0., 0., 0., 0.,\n",
       "        0., 0., 0., 0., 0., 0., 0., 0., 0., 0., 0., 0., 0., 0., 0., 0.,\n",
       "        0., 0., 0., 0., 0., 0., 0., 0., 0., 0., 0., 0., 0., 0., 0., 0.,\n",
       "        0., 0., 0., 0., 0., 0., 0., 0., 0., 0., 0., 0., 0., 0., 0., 0.,\n",
       "        0., 0., 0., 0., 0., 0., 0., 0., 0., 0., 0., 0., 0., 0., 0., 0.,\n",
       "        0., 0., 0., 0., 0., 0., 0., 0., 0., 0., 0., 0., 0., 0., 0., 0.,\n",
       "        0., 0., 0., 0., 0., 0., 0., 0., 0., 0., 0., 0., 0., 0., 0., 0.,\n",
       "        0., 0., 0., 0., 0., 0., 0., 0., 0., 0., 0., 0., 0., 0., 0., 0.,\n",
       "        0., 0., 0., 0., 0., 0., 0., 0., 0., 0., 0., 0., 0., 0., 0., 0.,\n",
       "        0., 0., 0., 0., 0., 0., 0., 0., 0., 0., 0., 0., 0., 0., 0., 0.,\n",
       "        0., 0., 0., 0., 0., 0., 0., 0., 0., 0., 0., 0., 0., 0., 0., 0.,\n",
       "        0., 0., 0., 0., 0., 0., 0., 0., 0., 0., 0., 0., 0., 0., 0., 0.,\n",
       "        0., 0., 0., 0., 0., 0., 0., 0., 0., 0., 0., 0., 0., 0., 0., 0.,\n",
       "        0., 0., 0., 0., 0., 0., 0., 0., 0., 0., 0., 0., 0., 0., 0., 0.,\n",
       "        0., 0., 0., 0., 0., 0., 0., 0., 0., 0., 0., 0., 0., 0., 0., 0.,\n",
       "        0., 0., 0., 0., 0., 0., 0., 0., 0., 0., 0., 0., 0., 0., 0., 0.,\n",
       "        0., 0., 0., 0., 0., 0., 0., 0., 0., 0., 0., 0., 0., 0., 0., 0.,\n",
       "        0., 0., 0., 0., 0., 0., 0., 0., 0., 0., 0., 0., 0., 0., 0., 0.,\n",
       "        0., 0., 0., 0., 0., 0., 0., 0., 0., 0., 0., 0., 0., 0., 0., 0.,\n",
       "        0., 0., 0., 0., 0., 0., 0., 0., 0., 0., 0., 0., 0., 0., 0., 0.,\n",
       "        0., 0., 0., 0., 0., 0., 0., 0., 0., 0., 0., 0., 0., 0., 0., 0.,\n",
       "        0., 0., 0., 0., 0., 0., 0., 0., 0., 0., 0., 0., 0., 0., 0., 0.,\n",
       "        0., 0., 0., 0., 0., 0., 0., 0., 0., 0., 0., 0., 0., 0., 0., 0.,\n",
       "        0., 0., 0., 0., 0., 0., 0., 0., 0., 0., 0., 0., 0., 0., 0., 0.,\n",
       "        0., 0., 0., 0., 0., 0., 0., 0., 0., 0., 0., 0., 0., 0., 0., 0.,\n",
       "        0., 0., 0., 0., 0., 0., 0., 0., 0., 0., 0., 0., 0., 0., 0., 0.,\n",
       "        0., 0., 0., 0., 0., 0., 0., 0., 0., 0., 0., 0., 0., 0., 0., 0.,\n",
       "        0., 0., 0., 0., 0., 0., 0., 0., 0., 0., 0., 0., 0., 0., 0., 0.,\n",
       "        0., 0., 0., 0., 0., 0., 0., 0., 0., 0., 0., 0., 0., 0., 0., 0.,\n",
       "        0., 0., 0., 0., 0., 0., 0., 0.]])"
      ]
     },
     "execution_count": 225,
     "metadata": {},
     "output_type": "execute_result"
    }
   ],
   "source": [
    "X_train_sc"
   ]
  },
  {
   "cell_type": "code",
   "execution_count": 226,
   "metadata": {},
   "outputs": [],
   "source": [
    "from sklearn.linear_model import LinearRegression\n",
    "lr = LinearRegression()"
   ]
  },
  {
   "cell_type": "code",
   "execution_count": 227,
   "metadata": {},
   "outputs": [
    {
     "data": {
      "text/plain": [
       "LinearRegression()"
      ]
     },
     "execution_count": 227,
     "metadata": {},
     "output_type": "execute_result"
    }
   ],
   "source": [
    "lr.fit(X_train_sc.reshape(-1,1),y_train)"
   ]
  },
  {
   "cell_type": "code",
   "execution_count": 228,
   "metadata": {},
   "outputs": [],
   "source": [
    "ypred = lr.predict(X_test_sc.reshape(-1,1))"
   ]
  },
  {
   "cell_type": "code",
   "execution_count": 229,
   "metadata": {},
   "outputs": [
    {
     "data": {
      "text/plain": [
       "[<matplotlib.lines.Line2D at 0x1393c1ccdf0>]"
      ]
     },
     "execution_count": 229,
     "metadata": {},
     "output_type": "execute_result"
    },
    {
     "data": {
      "image/png": "[encoded data removed]",
      "text/plain": [
       "<Figure size 432x288 with 1 Axes>"
      ]
     },
     "metadata": {
      "needs_background": "light"
     },
     "output_type": "display_data"
    }
   ],
   "source": [
    "plt.scatter(df['X'],df['Y'])\n",
    "plt.plot(X_train_sc.reshape(-1,1),lr.predict(X_train_sc.reshape(-1,1)),color='red')\n"
   ]
  },
  {
   "cell_type": "code",
   "execution_count": 230,
   "metadata": {},
   "outputs": [],
   "source": [
    "from sklearn.metrics import r2_score"
   ]
  },
  {
   "cell_type": "code",
   "execution_count": 231,
   "metadata": {},
   "outputs": [
    {
     "data": {
      "text/plain": [
       "-0.0033392406739993774"
      ]
     },
     "execution_count": 231,
     "metadata": {},
     "output_type": "execute_result"
    }
   ],
   "source": [
    "r2_score(y_test,ypred)"
   ]
  },
  {
   "cell_type": "code",
   "execution_count": 212,
   "metadata": {},
   "outputs": [
    {
     "data": {
      "text/plain": [
       "LinearRegression()"
      ]
     },
     "execution_count": 212,
     "metadata": {},
     "output_type": "execute_result"
    }
   ],
   "source": [
    "lr.fit(X_train.values.reshape(-1,1),y_train)"
   ]
  },
  {
   "cell_type": "code",
   "execution_count": 216,
   "metadata": {},
   "outputs": [],
   "source": [
    "ypred = lr.predict(X_test.values.reshape(-1,1))"
   ]
  },
  {
   "cell_type": "code",
   "execution_count": 217,
   "metadata": {},
   "outputs": [
    {
     "data": {
      "text/plain": [
       "0.44403963823164105"
      ]
     },
     "execution_count": 217,
     "metadata": {},
     "output_type": "execute_result"
    }
   ],
   "source": [
    "r2_score(y_test,ypred)"
   ]
  },
  {
   "cell_type": "code",
   "execution_count": 253,
   "metadata": {},
   "outputs": [
    {
     "data": {
      "text/plain": [
       "Lasso(alpha=1e-05)"
      ]
     },
     "execution_count": 253,
     "metadata": {},
     "output_type": "execute_result"
    }
   ],
   "source": [
    "from sklearn.linear_model import Lasso,Ridge\n",
    "lasso = Lasso(alpha=0.00001)\n",
    "lasso.fit(X_train.values.reshape(-1,1),y_train)"
   ]
  },
  {
   "cell_type": "code",
   "execution_count": 254,
   "metadata": {},
   "outputs": [],
   "source": [
    "ypred1 = lasso.predict(X_test.values.reshape(-1,1))"
   ]
  },
  {
   "cell_type": "code",
   "execution_count": 255,
   "metadata": {},
   "outputs": [
    {
     "data": {
      "text/plain": [
       "0.4440396382076057"
      ]
     },
     "execution_count": 255,
     "metadata": {},
     "output_type": "execute_result"
    }
   ],
   "source": [
    "r2_score(y_test,ypred1)"
   ]
  },
  {
   "cell_type": "code",
   "execution_count": 259,
   "metadata": {},
   "outputs": [],
   "source": [
    "rig = Ridge(0.5)\n",
    "rig.fit(X_train.values.reshape(-1,1),y_train)\n",
    "ypred2 = rig.predict(X_test.values.reshape(-1,1))"
   ]
  },
  {
   "cell_type": "code",
   "execution_count": 260,
   "metadata": {},
   "outputs": [
    {
     "data": {
      "text/plain": [
       "0.4440396374493536"
      ]
     },
     "execution_count": 260,
     "metadata": {},
     "output_type": "execute_result"
    }
   ],
   "source": [
    "r2_score(y_test,ypred2)"
   ]
  },
  {
   "cell_type": "code",
   "execution_count": 261,
   "metadata": {},
   "outputs": [],
   "source": [
    "from sklearn.ensemble import RandomForestRegressor"
   ]
  },
  {
   "cell_type": "code",
   "execution_count": 262,
   "metadata": {},
   "outputs": [],
   "source": [
    "rf = RandomForestRegressor()"
   ]
  },
  {
   "cell_type": "code",
   "execution_count": 263,
   "metadata": {},
   "outputs": [],
   "source": [
    "rf.fit(X_train.values.reshape(-1,1),y_train)\n",
    "ypred3 = rf.predict(X_test.values.reshape(-1,1))"
   ]
  },
  {
   "cell_type": "code",
   "execution_count": 264,
   "metadata": {},
   "outputs": [
    {
     "data": {
      "text/plain": [
       "0.8043094549622535"
      ]
     },
     "execution_count": 264,
     "metadata": {},
     "output_type": "execute_result"
    }
   ],
   "source": [
    "r2_score(y_test,ypred3)"
   ]
  },
  {
   "cell_type": "code",
   "execution_count": 268,
   "metadata": {},
   "outputs": [],
   "source": [
    "n_estimators = [20,40,60,80,100]\n",
    "max_features = [0.2,0.6,1.0]\n",
    "max_depth = [2,8,None]\n",
    "max_samples = [0.5,0.75,1.0]"
   ]
  },
  {
   "cell_type": "code",
   "execution_count": 269,
   "metadata": {},
   "outputs": [],
   "source": [
    "param_grid = {'n_estimators':n_estimators,\n",
    "              'max_features':max_features,\n",
    "              'max_depth':max_depth,\n",
    "              'max_samples':max_samples\n",
    "}"
   ]
  },
  {
   "cell_type": "code",
   "execution_count": 270,
   "metadata": {},
   "outputs": [],
   "source": [
    "from sklearn.model_selection import GridSearchCV\n",
    "rf_grid = GridSearchCV(estimator=rf,\n",
    "                      param_grid=param_grid,\n",
    "                      cv = 5,\n",
    "                      verbose=2,\n",
    "                      n_jobs=-1)"
   ]
  },
  {
   "cell_type": "code",
   "execution_count": 271,
   "metadata": {},
   "outputs": [
    {
     "name": "stdout",
     "output_type": "stream",
     "text": [
      "Fitting 5 folds for each of 135 candidates, totalling 675 fits\n"
     ]
    },
    {
     "name": "stderr",
     "output_type": "stream",
     "text": [
      "[Parallel(n_jobs=-1)]: Using backend LokyBackend with 12 concurrent workers.\n",
      "[Parallel(n_jobs=-1)]: Done  17 tasks      | elapsed:    6.2s\n",
      "[Parallel(n_jobs=-1)]: Done 180 tasks      | elapsed:    7.8s\n",
      "[Parallel(n_jobs=-1)]: Done 675 out of 675 | elapsed:   13.5s finished\n"
     ]
    },
    {
     "data": {
      "text/plain": [
       "GridSearchCV(cv=5, estimator=RandomForestRegressor(), n_jobs=-1,\n",
       "             param_grid={'max_depth': [2, 8, None],\n",
       "                         'max_features': [0.2, 0.6, 1.0],\n",
       "                         'max_samples': [0.5, 0.75, 1.0],\n",
       "                         'n_estimators': [20, 40, 60, 80, 100]},\n",
       "             verbose=2)"
      ]
     },
     "execution_count": 271,
     "metadata": {},
     "output_type": "execute_result"
    }
   ],
   "source": [
    "rf_grid.fit(X_train.values.reshape(-1,1),y_train)"
   ]
  },
  {
   "cell_type": "code",
   "execution_count": 272,
   "metadata": {},
   "outputs": [],
   "source": [
    "ypred4 = rf_grid.predict(X_test.values.reshape(-1,1))"
   ]
  },
  {
   "cell_type": "code",
   "execution_count": 273,
   "metadata": {},
   "outputs": [
    {
     "data": {
      "text/plain": [
       "0.8214850189188951"
      ]
     },
     "execution_count": 273,
     "metadata": {},
     "output_type": "execute_result"
    }
   ],
   "source": [
    "r2_score(y_test,ypred4)"
   ]
  },
  {
   "cell_type": "code",
   "execution_count": 283,
   "metadata": {},
   "outputs": [],
   "source": [
    "from xgboost import  XGBRegressor"
   ]
  },
  {
   "cell_type": "code",
   "execution_count": 284,
   "metadata": {},
   "outputs": [],
   "source": [
    "xgb = XGBRegressor(max_depth=10,\n",
    "    n_estimators=1000,\n",
    "    min_child_weight=0.5, \n",
    "    colsample_bytree=0.8, \n",
    "    subsample=0.8, \n",
    "    eta=0.1,\n",
    "    seed=42)"
   ]
  },
  {
   "cell_type": "code",
   "execution_count": 285,
   "metadata": {},
   "outputs": [
    {
     "data": {
      "text/plain": [
       "XGBRegressor(base_score=0.5, booster='gbtree', colsample_bylevel=1,\n",
       "             colsample_bynode=1, colsample_bytree=0.8, enable_categorical=False,\n",
       "             eta=0.1, gamma=0, gpu_id=-1, importance_type=None,\n",
       "             interaction_constraints='', learning_rate=0.100000001,\n",
       "             max_delta_step=0, max_depth=10, min_child_weight=0.5, missing=nan,\n",
       "             monotone_constraints='()', n_estimators=1000, n_jobs=12,\n",
       "             num_parallel_tree=1, predictor='auto', random_state=42,\n",
       "             reg_alpha=0, reg_lambda=1, scale_pos_weight=1, seed=42,\n",
       "             subsample=0.8, tree_method='exact', validate_parameters=1,\n",
       "             verbosity=None)"
      ]
     },
     "execution_count": 285,
     "metadata": {},
     "output_type": "execute_result"
    }
   ],
   "source": [
    "xgb.fit(X_train.values.reshape(-1,1),y_train)"
   ]
  },
  {
   "cell_type": "code",
   "execution_count": 286,
   "metadata": {},
   "outputs": [],
   "source": [
    "ypred5 = xgb.predict(X_test.values.reshape(-1,1))"
   ]
  },
  {
   "cell_type": "code",
   "execution_count": 287,
   "metadata": {},
   "outputs": [
    {
     "data": {
      "text/plain": [
       "0.7598847762801069"
      ]
     },
     "execution_count": 287,
     "metadata": {},
     "output_type": "execute_result"
    }
   ],
   "source": [
    "r2_score(y_test,ypred5)"
   ]
  },
  {
   "cell_type": "code",
   "execution_count": null,
   "metadata": {},
   "outputs": [],
   "source": []
  }
 ],
 "metadata": {
  "kernelspec": {
   "display_name": "Python 3",
   "language": "python",
   "name": "python3"
  },
  "language_info": {
   "codemirror_mode": {
    "name": "ipython",
    "version": 3
   },
   "file_extension": ".py",
   "mimetype": "text/x-python",
   "name": "python",
   "nbconvert_exporter": "python",
   "pygments_lexer": "ipython3",
   "version": "3.8.5"
  }
 },
 "nbformat": 4,
 "nbformat_minor": 4
}
